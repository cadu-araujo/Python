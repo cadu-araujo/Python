{
 "cells": [
  {
   "cell_type": "markdown",
   "id": "1fcc1e4d-0f4c-40ef-9f56-c49de3375764",
   "metadata": {},
   "source": [
    "## lista 1"
   ]
  },
  {
   "cell_type": "code",
   "execution_count": 2,
   "id": "054232d5-399f-4585-8c46-27f1e7291f03",
   "metadata": {},
   "outputs": [],
   "source": [
    "def numeros(n1,n2):\n",
    "    if (n1*n2 >= 100):\n",
    "        return n1*n2\n",
    "    else:\n",
    "        return n1+n2"
   ]
  },
  {
   "cell_type": "code",
   "execution_count": 5,
   "id": "0ca889e3-0461-4b38-b7ed-caae946816c2",
   "metadata": {},
   "outputs": [
    {
     "data": {
      "text/plain": [
       "200"
      ]
     },
     "execution_count": 5,
     "metadata": {},
     "output_type": "execute_result"
    }
   ],
   "source": [
    "numeros (10,20)"
   ]
  },
  {
   "cell_type": "code",
   "execution_count": 13,
   "id": "06128432-2c8f-4a35-bbac-e46c90c44321",
   "metadata": {},
   "outputs": [],
   "source": [
    "def numeros_2(n1,n2):\n",
    "    if (n1>n2):\n",
    "        return n1/n2\n",
    "    elif (n2>n1):\n",
    "        return n2/n1\n",
    "    else:\n",
    "        return 'Operação inválida'"
   ]
  },
  {
   "cell_type": "code",
   "execution_count": 14,
   "id": "65ae416f-c52f-41d0-8beb-af99b3642c48",
   "metadata": {},
   "outputs": [
    {
     "data": {
      "text/plain": [
       "1.8"
      ]
     },
     "execution_count": 14,
     "metadata": {},
     "output_type": "execute_result"
    }
   ],
   "source": [
    "numeros_2(5,9)"
   ]
  },
  {
   "cell_type": "code",
   "execution_count": 18,
   "id": "5f4e24bd-858e-4af3-ba9b-8bb979acb47e",
   "metadata": {},
   "outputs": [],
   "source": [
    "def quadrados (n1):\n",
    "    cont = 1\n",
    "    while (cont <= n1):\n",
    "        print(cont,\"² =\", cont*cont)\n",
    "        cont+=1"
   ]
  },
  {
   "cell_type": "code",
   "execution_count": 19,
   "id": "a3e8a1ea-17a2-49ea-8217-d1347c46bc9a",
   "metadata": {},
   "outputs": [
    {
     "name": "stdout",
     "output_type": "stream",
     "text": [
      "1 ² = 1\n",
      "2 ² = 4\n",
      "3 ² = 9\n",
      "4 ² = 16\n",
      "5 ² = 25\n"
     ]
    }
   ],
   "source": [
    "quadrados (5)"
   ]
  },
  {
   "cell_type": "code",
   "execution_count": 21,
   "id": "bf8edb25-96e5-4402-b21f-1c8347c152cc",
   "metadata": {},
   "outputs": [],
   "source": [
    "def anteriores (n1):\n",
    "    cont = 1\n",
    "    while (cont <= n1):\n",
    "        print(cont,\"+\", cont-1, \"=\", cont+ (cont-1))\n",
    "        cont+=1"
   ]
  },
  {
   "cell_type": "code",
   "execution_count": 23,
   "id": "6313aaaf-6d80-43eb-8aad-58f7af0da759",
   "metadata": {},
   "outputs": [
    {
     "name": "stdout",
     "output_type": "stream",
     "text": [
      "1 + 0 = 1\n",
      "2 + 1 = 3\n",
      "3 + 2 = 5\n",
      "4 + 3 = 7\n",
      "5 + 4 = 9\n",
      "6 + 5 = 11\n",
      "7 + 6 = 13\n",
      "8 + 7 = 15\n",
      "9 + 8 = 17\n"
     ]
    }
   ],
   "source": [
    "anteriores (9)"
   ]
  },
  {
   "cell_type": "code",
   "execution_count": 65,
   "id": "83399574-13e1-469a-a5b1-c0219cc38f3f",
   "metadata": {},
   "outputs": [],
   "source": [
    "def palavra (palavra, tipo):\n",
    "    if (tipo.upper() != \"I\" and tipo.upper() != \"P\"):\n",
    "        print (\"Opção inválida\")\n",
    "    elif (\"I\" == tipo.upper()):\n",
    "        cont=0\n",
    "        while (cont <= len(palavra)):\n",
    "            if(cont%2==0):\n",
    "                print (palavra[cont])\n",
    "            cont+=1\n",
    "    else:\n",
    "        cont=0\n",
    "        while (cont <= len(palavra)):\n",
    "            if(cont%2!=0):\n",
    "                print (palavra[cont])\n",
    "            cont+=1"
   ]
  },
  {
   "cell_type": "code",
   "execution_count": 69,
   "id": "401b42b6-e38a-4cf5-83b6-b7105f9e681a",
   "metadata": {},
   "outputs": [
    {
     "name": "stdout",
     "output_type": "stream",
     "text": [
      "a\n",
      "l\n",
      "s\n"
     ]
    }
   ],
   "source": [
    "palavra (\"Carlos\",\"p\")"
   ]
  },
  {
   "cell_type": "code",
   "execution_count": null,
   "id": "def507b6-9bb5-4f0c-870c-4f1b13bb062b",
   "metadata": {},
   "outputs": [],
   "source": []
  }
 ],
 "metadata": {
  "kernelspec": {
   "display_name": "Python 3 (ipykernel)",
   "language": "python",
   "name": "python3"
  },
  "language_info": {
   "codemirror_mode": {
    "name": "ipython",
    "version": 3
   },
   "file_extension": ".py",
   "mimetype": "text/x-python",
   "name": "python",
   "nbconvert_exporter": "python",
   "pygments_lexer": "ipython3",
   "version": "3.10.14"
  }
 },
 "nbformat": 4,
 "nbformat_minor": 5
}
